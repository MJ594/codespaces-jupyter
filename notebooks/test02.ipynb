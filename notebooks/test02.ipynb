{
 "cells": [
  {
   "cell_type": "code",
   "execution_count": 2,
   "metadata": {},
   "outputs": [
    {
     "name": "stdout",
     "output_type": "stream",
     "text": [
      "행과열의 갯수: (5, 3)\n",
      "요약정보:\n",
      "<class 'pandas.core.frame.DataFrame'>\n",
      "RangeIndex: 5 entries, 0 to 4\n",
      "Data columns (total 3 columns):\n",
      " #   Column  Non-Null Count  Dtype \n",
      "---  ------  --------------  ----- \n",
      " 0   Name    5 non-null      object\n",
      " 1   Age     5 non-null      int64 \n",
      " 2   City    5 non-null      object\n",
      "dtypes: int64(1), object(2)\n",
      "memory usage: 248.0+ bytes\n",
      "None\n"
     ]
    }
   ],
   "source": [
    "import pandas as pd\n",
    "\n",
    "data = {\n",
    "'Name': ['Alice','Bob','Charlie','David','Eve'],\n",
    "'Age':[24, 27, 22, 32, 29],\n",
    "'City':['New York', 'Los Angeles','Chicago','Houston','Phoenix']\n",
    "}\n",
    "dfData = pd.DataFrame(data)\n",
    "\n",
    "print(\"행과열의 갯수:\",dfData.shape)\n",
    "print(\"요약정보:\")\n",
    "print(dfData.info())"
   ]
  },
  {
   "cell_type": "code",
   "execution_count": 4,
   "metadata": {},
   "outputs": [
    {
     "name": "stdout",
     "output_type": "stream",
     "text": [
      "나이의 평균: 26.8\n",
      "나이의 최댓값: 32\n",
      "나이의 최소값: 22\n"
     ]
    }
   ],
   "source": [
    "age_mean = dfData['Age'].mean()\n",
    "age_max = dfData['Age'].max()\n",
    "age_min = dfData['Age'].min()\n",
    "print(\"나이의 평균:\", age_mean)\n",
    "print(\"나이의 최댓값:\", age_max)\n",
    "print(\"나이의 최소값:\", age_min)"
   ]
  },
  {
   "cell_type": "code",
   "execution_count": 6,
   "metadata": {},
   "outputs": [
    {
     "name": "stdout",
     "output_type": "stream",
     "text": [
      "업데이트된 DataFrame:\n",
      "       Name  Age         City  Score\n",
      "0    Alice   24     New York     85\n",
      "1      Bob   27  Los Angeles     90\n",
      "2  Charlie   22      Chicago     78\n",
      "3    David   32      Houston     92\n",
      "4      Eve   29      Phoenix     88\n"
     ]
    }
   ],
   "source": [
    "scores = [85, 90, 78, 92, 88]\n",
    "dfData['Score'] = scores\n",
    "print(\"업데이트된 DataFrame:\\n\", dfData)"
   ]
  },
  {
   "cell_type": "code",
   "execution_count": 7,
   "metadata": {},
   "outputs": [
    {
     "name": "stdout",
     "output_type": "stream",
     "text": [
      "나이 기준 오른차순 정렬된 DataFrame:\n",
      "      Name  Age         City  Score\n",
      "2  Charlie   22      Chicago     78\n",
      "0    Alice   24     New York     85\n",
      "1      Bob   27  Los Angeles     90\n",
      "4      Eve   29      Phoenix     88\n",
      "3    David   32      Houston     92\n"
     ]
    }
   ],
   "source": [
    "sorted_df = dfData.sort_values(by='Age')\n",
    "print(\"나이 기준 오른차순 정렬된 DataFrame:\")\n",
    "print(sorted_df)"
   ]
  }
 ],
 "metadata": {
  "kernelspec": {
   "display_name": "Python 3",
   "language": "python",
   "name": "python3"
  },
  "language_info": {
   "codemirror_mode": {
    "name": "ipython",
    "version": 3
   },
   "file_extension": ".py",
   "mimetype": "text/x-python",
   "name": "python",
   "nbconvert_exporter": "python",
   "pygments_lexer": "ipython3",
   "version": "3.10.13"
  }
 },
 "nbformat": 4,
 "nbformat_minor": 2
}
